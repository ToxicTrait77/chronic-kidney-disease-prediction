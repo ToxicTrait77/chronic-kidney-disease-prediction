{
 "cells": [
  {
   "cell_type": "code",
   "execution_count": 11,
   "metadata": {},
   "outputs": [
    {
     "name": "stdout",
     "output_type": "stream",
     "text": [
      "Predicted Output: [1]\n"
     ]
    },
    {
     "name": "stderr",
     "output_type": "stream",
     "text": [
      "d:\\Projects\\chronic-kidney-disease-prediction\\venv\\Lib\\site-packages\\sklearn\\utils\\validation.py:2739: UserWarning: X does not have valid feature names, but RandomForestClassifier was fitted with feature names\n",
      "  warnings.warn(\n"
     ]
    }
   ],
   "source": [
    "import joblib\n",
    "\n",
    "# Load the trained model\n",
    "model = joblib.load(\"model/ckd_model.pkl\")\n",
    "\n",
    "# Test model prediction with a sample input (replace with actual data format)\n",
    "sample_input = [[-1.6757643930947996,0.974217467489563,-0.4806345081853578,-1.3813907933737408,-0.800289579376776,-0.43779689860601223,1,1,0,0,-0.6431529947737853,-0.06959420201523951,3.7300918803607335,-3.647299689868975,-0.22272252958533545,-0.04660793293595977,24,90,34,0,3,1,0,0,0]]  # Example input\n",
    "prediction = model.predict(sample_input)\n",
    "\n",
    "print(\"Predicted Output:\", prediction)\n"
   ]
  },
  {
   "cell_type": "code",
   "execution_count": 12,
   "metadata": {},
   "outputs": [
    {
     "name": "stdout",
     "output_type": "stream",
     "text": [
      "Prediction: 1, Probability: 100.0%\n"
     ]
    },
    {
     "name": "stderr",
     "output_type": "stream",
     "text": [
      "d:\\Projects\\chronic-kidney-disease-prediction\\venv\\Lib\\site-packages\\sklearn\\utils\\validation.py:2739: UserWarning: X does not have valid feature names, but RandomForestClassifier was fitted with feature names\n",
      "  warnings.warn(\n",
      "d:\\Projects\\chronic-kidney-disease-prediction\\venv\\Lib\\site-packages\\sklearn\\utils\\validation.py:2739: UserWarning: X does not have valid feature names, but RandomForestClassifier was fitted with feature names\n",
      "  warnings.warn(\n"
     ]
    }
   ],
   "source": [
    "# Load the model\n",
    "loaded_model = joblib.load(\"model/ckd_model.pkl\")\n",
    "\n",
    "# Test the model with a sample input (replace with actual 25 feature values)\n",
    "sample_input = [[0.264138573588586,0.7972653012824932,-1.2236073734280635,-1.3813907933737408,0.7736132600642169,-0.43779689860601223,1,0,1,0,0.5886198187944862,-0.8212563731835149,-0.24462403504714383,-0.8189872522917947,-0.11619811073409693,0.0,29,87,34,1,4,1,1,0,0]]\n",
    "\n",
    "# Make a prediction\n",
    "prediction = loaded_model.predict(sample_input)\n",
    "probability = loaded_model.predict_proba(sample_input)[0][1]  # Probability of having CKD\n",
    "\n",
    "print(f\"Prediction: {prediction[0]}, Probability: {round(probability * 100, 2)}%\")\n"
   ]
  },
  {
   "cell_type": "code",
   "execution_count": null,
   "metadata": {},
   "outputs": [
    {
     "ename": "NameError",
     "evalue": "name 'x_test' is not defined",
     "output_type": "error",
     "traceback": [
      "\u001b[1;31m---------------------------------------------------------------------------\u001b[0m",
      "\u001b[1;31mNameError\u001b[0m                                 Traceback (most recent call last)",
      "Cell \u001b[1;32mIn[14], line 1\u001b[0m\n\u001b[1;32m----> 1\u001b[0m sample_ckd_case \u001b[38;5;241m=\u001b[39m \u001b[43mx_test\u001b[49m[y_test \u001b[38;5;241m==\u001b[39m \u001b[38;5;241m1\u001b[39m]\u001b[38;5;241m.\u001b[39miloc[\u001b[38;5;241m0\u001b[39m]\u001b[38;5;241m.\u001b[39mvalues\u001b[38;5;241m.\u001b[39mreshape(\u001b[38;5;241m1\u001b[39m, \u001b[38;5;241m-\u001b[39m\u001b[38;5;241m1\u001b[39m)\n\u001b[0;32m      2\u001b[0m pred \u001b[38;5;241m=\u001b[39m loaded_model\u001b[38;5;241m.\u001b[39mpredict(sample_ckd_case)\n\u001b[0;32m      3\u001b[0m prob \u001b[38;5;241m=\u001b[39m loaded_model\u001b[38;5;241m.\u001b[39mpredict_proba(sample_ckd_case)[\u001b[38;5;241m0\u001b[39m][\u001b[38;5;241m1\u001b[39m] \u001b[38;5;241m*\u001b[39m \u001b[38;5;241m100\u001b[39m\n",
      "\u001b[1;31mNameError\u001b[0m: name 'x_test' is not defined"
     ]
    }
   ],
   "source": [
    "sample_ckd_case = X_test[y_test == 1].iloc[0].values.reshape(1, -1)\n",
    "pred = loaded_model.predict(sample_ckd_case)\n",
    "prob = loaded_model.predict_proba(sample_ckd_case)[0][1] * 100\n",
    "print(f\"Prediction: {pred[0]}, Probability: {round(prob, 2)}%\")\n"
   ]
  },
  {
   "cell_type": "code",
   "execution_count": null,
   "metadata": {},
   "outputs": [],
   "source": []
  }
 ],
 "metadata": {
  "kernelspec": {
   "display_name": "venv",
   "language": "python",
   "name": "python3"
  },
  "language_info": {
   "codemirror_mode": {
    "name": "ipython",
    "version": 3
   },
   "file_extension": ".py",
   "mimetype": "text/x-python",
   "name": "python",
   "nbconvert_exporter": "python",
   "pygments_lexer": "ipython3",
   "version": "3.13.2"
  }
 },
 "nbformat": 4,
 "nbformat_minor": 2
}
