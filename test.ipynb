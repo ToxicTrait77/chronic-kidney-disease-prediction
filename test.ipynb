{
 "cells": [
  {
   "cell_type": "code",
   "execution_count": 12,
   "metadata": {},
   "outputs": [
    {
     "name": "stdout",
     "output_type": "stream",
     "text": [
      "         id       age        bp        sg        al        su  rbc  pc  pcc  \\\n",
      "0 -1.727726 -0.205464  0.262338  0.483355 -0.013338 -0.437797    1   1    0   \n",
      "1 -1.719066 -2.623810 -1.966580  0.483355  2.347516 -0.437797    1   1    0   \n",
      "2 -1.710406  0.620313  0.262338 -1.381391  0.773613  2.479925    1   1    0   \n",
      "3 -1.701745 -0.205464 -0.480635 -2.313764  2.347516 -0.437797    1   0    1   \n",
      "4 -1.693085 -0.028511  0.262338 -1.381391  0.773613 -0.437797    1   1    0   \n",
      "\n",
      "   ba  ...  pcv  wc  rc  htn  dm  cad  appet  pe  ane  classification  \n",
      "0   0  ...   32  72  34    1   4    1      0   0    0               1  \n",
      "1   0  ...   26  56  34    0   3    1      0   0    0               1  \n",
      "2   0  ...   19  70  34    0   4    1      1   0    1               1  \n",
      "3   0  ...   20  62  19    1   3    1      1   1    1               1  \n",
      "4   0  ...   23  68  27    0   3    1      0   0    0               1  \n",
      "\n",
      "[5 rows x 26 columns]\n"
     ]
    }
   ],
   "source": [
    "import pandas as pd\n",
    "df = pd.read_csv(\"data/cleaned_ckd.csv\")\n",
    "\n",
    "# Display first few rows\n",
    "print(df.head())"
   ]
  },
  {
   "cell_type": "code",
   "execution_count": 13,
   "metadata": {},
   "outputs": [
    {
     "name": "stdout",
     "output_type": "stream",
     "text": [
      "[1 0]\n",
      "classification\n",
      "1    250\n",
      "0    150\n",
      "Name: count, dtype: int64\n"
     ]
    }
   ],
   "source": [
    "print(df[\"classification\"].unique())\n",
    "print(df[\"classification\"].value_counts())\n"
   ]
  },
  {
   "cell_type": "code",
   "execution_count": 14,
   "metadata": {},
   "outputs": [
    {
     "name": "stdout",
     "output_type": "stream",
     "text": [
      "classification\n",
      "1    250\n",
      "0    150\n",
      "Name: count, dtype: int64\n"
     ]
    }
   ],
   "source": [
    "df[\"classification\"] = df[\"classification\"].replace(2, 1)\n",
    "print(df[\"classification\"].value_counts())\n"
   ]
  },
  {
   "cell_type": "code",
   "execution_count": null,
   "metadata": {},
   "outputs": [],
   "source": []
  }
 ],
 "metadata": {
  "kernelspec": {
   "display_name": "venv",
   "language": "python",
   "name": "python3"
  },
  "language_info": {
   "codemirror_mode": {
    "name": "ipython",
    "version": 3
   },
   "file_extension": ".py",
   "mimetype": "text/x-python",
   "name": "python",
   "nbconvert_exporter": "python",
   "pygments_lexer": "ipython3",
   "version": "3.13.2"
  }
 },
 "nbformat": 4,
 "nbformat_minor": 2
}
