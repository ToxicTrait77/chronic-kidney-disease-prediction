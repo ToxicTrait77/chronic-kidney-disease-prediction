{
 "cells": [
  {
   "cell_type": "code",
   "execution_count": null,
   "metadata": {},
   "outputs": [
    {
     "data": {
      "text/plain": [
       "   id   age    bp     sg   al   su  ...   dm cad appet   pe  ane  classification\n",
       "0   0  48.0  80.0  1.020  1.0  0.0  ...  yes  no  good   no   no             ckd\n",
       "1   1   7.0  50.0  1.020  4.0  0.0  ...   no  no  good   no   no             ckd\n",
       "2   2  62.0  80.0  1.010  2.0  3.0  ...  yes  no  poor   no  yes             ckd\n",
       "3   3  48.0  70.0  1.005  4.0  0.0  ...   no  no  poor  yes  yes             ckd\n",
       "4   4  51.0  80.0  1.010  2.0  0.0  ...   no  no  good   no   no             ckd\n",
       "\n",
       "[5 rows x 26 columns]\n",
       "<class 'pandas.core.frame.DataFrame'>\n",
       "RangeIndex: 400 entries, 0 to 399\n",
       "Data columns (total 26 columns):\n",
       " #   Column          Non-Null Count  Dtype  \n",
       "---  ------          --------------  -----  \n",
       " 0   id              400 non-null    int64  \n",
       " 1   age             391 non-null    float64\n",
       " 2   bp              388 non-null    float64\n",
       " 3   sg              353 non-null    float64\n",
       " 4   al              354 non-null    float64\n",
       " 5   su              351 non-null    float64\n",
       " 6   rbc             248 non-null    object \n",
       " 7   pc              335 non-null    object \n",
       " 8   pcc             396 non-null    object \n",
       " 9   ba              396 non-null    object \n",
       " 10  bgr             356 non-null    float64\n",
       " 11  bu              381 non-null    float64\n",
       " 12  sc              383 non-null    float64\n",
       " 13  sod             313 non-null    float64\n",
       " 14  pot             312 non-null    float64\n",
       " 15  hemo            348 non-null    float64\n",
       " 16  pcv             330 non-null    object \n",
       " 17  wc              295 non-null    object \n",
       " 18  rc              270 non-null    object \n",
       " 19  htn             398 non-null    object \n",
       " 20  dm              398 non-null    object \n",
       " 21  cad             398 non-null    object \n",
       " 22  appet           399 non-null    object \n",
       " 23  pe              399 non-null    object \n",
       " 24  ane             399 non-null    object \n",
       " 25  classification  400 non-null    object \n",
       "dtypes: float64(11), int64(1), object(14)\n",
       "memory usage: 81.4+ KB\n",
       "None\n",
       "id                  0\n",
       "age                 9\n",
       "bp                 12\n",
       "sg                 47\n",
       "al                 46\n",
       "su                 49\n",
       "rbc               152\n",
       "pc                 65\n",
       "pcc                 4\n",
       "ba                  4\n",
       "bgr                44\n",
       "bu                 19\n",
       "sc                 17\n",
       "sod                87\n",
       "pot                88\n",
       "hemo               52\n",
       "pcv                70\n",
       "wc                105\n",
       "rc                130\n",
       "htn                 2\n",
       "dm                  2\n",
       "cad                 2\n",
       "appet               1\n",
       "pe                  1\n",
       "ane                 1\n",
       "classification      0\n",
       "dtype: int64\n"
      ]
     },
     "metadata": {},
     "output_type": "display_data"
    }
   ],
   "source": [
    "import pandas as pd\n",
    "\n",
    "# Load the dataset\n",
    "df = pd.read_csv(\"data/ckd.csv\")\n",
    "\n",
    "# Display first few rows\n",
    "print(df.head())\n",
    "\n",
    "# Check data types and missing values\n",
    "print(df.info())\n",
    "print(df.isnull().sum())\n"
   ]
  },
  {
   "cell_type": "code",
   "execution_count": null,
   "metadata": {},
   "outputs": [],
   "source": [
    "# Fill missing numerical values with column mean\n",
    "num_cols = df.select_dtypes(include=['number']).columns\n",
    "df[num_cols] = df[num_cols].fillna(df[num_cols].mean())\n"
   ]
  },
  {
   "cell_type": "code",
   "execution_count": null,
   "metadata": {},
   "outputs": [],
   "source": [
    "# Fill missing categorical values with mode\n",
    "cat_cols = df.select_dtypes(include=['object']).columns\n",
    "df[cat_cols] = df[cat_cols].apply(lambda x: x.fillna(x.mode()[0]))\n"
   ]
  },
  {
   "cell_type": "code",
   "execution_count": null,
   "metadata": {},
   "outputs": [],
   "source": [
    "from sklearn.preprocessing import LabelEncoder\n",
    "\n",
    "# Convert categorical columns to numeric\n",
    "label_encoders = {}\n",
    "for col in cat_cols:\n",
    "    le = LabelEncoder()\n",
    "    df[col] = le.fit_transform(df[col])\n",
    "    label_encoders[col] = le  # Store encoders for later use\n"
   ]
  },
  {
   "cell_type": "code",
   "execution_count": null,
   "metadata": {},
   "outputs": [],
   "source": [
    "from sklearn.preprocessing import StandardScaler\n",
    "\n",
    "scaler = StandardScaler()\n",
    "df[num_cols] = scaler.fit_transform(df[num_cols])\n"
   ]
  },
  {
   "cell_type": "code",
   "execution_count": null,
   "metadata": {},
   "outputs": [
    {
     "data": {
      "text/plain": [
       "Data preprocessing completed and saved as cleaned_ckd.csv\n"
      ]
     },
     "metadata": {},
     "output_type": "display_data"
    }
   ],
   "source": [
    "df.to_csv(\"data/cleaned_ckd.csv\", index=False)\n",
    "print(\"Data preprocessing completed and saved as cleaned_ckd.csv\")\n"
   ]
  }
 ],
 "metadata": {
  "language_info": {
   "name": "python"
  }
 },
 "nbformat": 4,
 "nbformat_minor": 2
}
