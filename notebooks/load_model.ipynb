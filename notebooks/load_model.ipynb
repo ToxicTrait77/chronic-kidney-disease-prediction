{
 "cells": [
  {
   "cell_type": "code",
   "execution_count": null,
   "metadata": {},
   "outputs": [
    {
     "data": {
      "text/plain": [
       "Predicted Output: [0]\n"
      ]
     },
     "metadata": {},
     "output_type": "display_data"
    }
   ],
   "source": [
    "import joblib\n",
    "\n",
    "# Load the trained model\n",
    "model = joblib.load(\"model/ckd_model.pkl\")\n",
    "\n",
    "# Test model prediction with a sample input (replace with actual data format)\n",
    "sample_input = [[-1.6757643930947996,0.974217467489563,-0.4806345081853578,-1.3813907933737408,-0.800289579376776,-0.43779689860601223,1,1,0,0,-0.6431529947737853,-0.06959420201523951,3.7300918803607335,-3.647299689868975,-0.22272252958533545,-0.04660793293595977,24,90,34,0,3,1,0,0,0]]  # Example input\n",
    "prediction = model.predict(sample_input)\n",
    "\n",
    "print(\"Predicted Output:\", prediction)\n"
   ]
  },
  {
   "cell_type": "code",
   "execution_count": null,
   "metadata": {},
   "outputs": [
    {
     "data": {
      "text/plain": [
       "Prediction: 1, Probability: 66.0%\n"
      ]
     },
     "metadata": {},
     "output_type": "display_data"
    }
   ],
   "source": [
    "# Load the model\n",
    "loaded_model = joblib.load(\"model/ckd_model.pkl\")\n",
    "\n",
    "# Test the model with a sample input (replace with actual 25 feature values)\n",
    "sample_input = [[0.264138573588586,0.7972653012824932,-1.2236073734280635,-1.3813907933737408,0.7736132600642169,-0.43779689860601223,1,0,1,0,0.5886198187944862,-0.8212563731835149,-0.24462403504714383,-0.8189872522917947,-0.11619811073409693,0.0,29,87,34,1,4,1,1,0,0]]\n",
    "\n",
    "# Make a prediction\n",
    "prediction = loaded_model.predict(sample_input)\n",
    "probability = loaded_model.predict_proba(sample_input)[0][1]  # Probability of having CKD\n",
    "\n",
    "print(f\"Prediction: {prediction[0]}, Probability: {round(probability * 100, 2)}%\")\n"
   ]
  },
  {
   "cell_type": "code",
   "execution_count": null,
   "metadata": {},
   "outputs": [
    {
     "data": {
      "text/plain": [
       "Traceback (most recent call last):\n",
       "  File \"c:\\Users\\suyas\\.vscode\\extensions\\ms-python.python-2025.0.0-win32-x64\\python_files\\python_server.py\", line 133, in exec_user_input\n",
       "    retval = callable_(user_input, user_globals)\n",
       "  File \"<string>\", line 1, in <module>\n",
       "  File \"d:\\Projects\\chronic-kidney-disease-prediction\\venv\\Lib\\site-packages\\pandas\\core\\indexing.py\", line 1191, in __getitem__\n",
       "    return self._getitem_axis(maybe_callable, axis=axis)\n",
       "           ~~~~~~~~~~~~~~~~~~^^^^^^^^^^^^^^^^^^^^^^^^^^^\n",
       "  File \"d:\\Projects\\chronic-kidney-disease-prediction\\venv\\Lib\\site-packages\\pandas\\core\\indexing.py\", line 1752, in _getitem_axis\n",
       "    self._validate_integer(key, axis)\n",
       "    ~~~~~~~~~~~~~~~~~~~~~~^^^^^^^^^^^\n",
       "  File \"d:\\Projects\\chronic-kidney-disease-prediction\\venv\\Lib\\site-packages\\pandas\\core\\indexing.py\", line 1685, in _validate_integer\n",
       "    raise IndexError(\"single positional indexer is out-of-bounds\")\n",
       "IndexError: single positional indexer is out-of-bounds\n",
       "\n"
      ]
     },
     "metadata": {},
     "output_type": "display_data"
    }
   ],
   "source": [
    "sample_ckd_case = X_test[y_test == 1].iloc[0].values.reshape(1, -1)\n",
    "pred = loaded_model.predict(sample_ckd_case)\n",
    "prob = loaded_model.predict_proba(sample_ckd_case)[0][1] * 100\n",
    "print(f\"Prediction: {pred[0]}, Probability: {round(prob, 2)}%\")\n"
   ]
  },
  {
   "cell_type": "code",
   "execution_count": null,
   "metadata": {},
   "outputs": [],
   "source": []
  }
 ],
 "metadata": {
  "language_info": {
   "name": "python"
  }
 },
 "nbformat": 4,
 "nbformat_minor": 2
}
