{
 "cells": [
  {
   "cell_type": "code",
   "execution_count": null,
   "metadata": {},
   "outputs": [
    {
     "data": {
      "text/plain": [
       "         id       age        bp        sg  ...  appet  pe  ane  classification\n",
       "0 -1.727726 -0.205464  0.262338  0.483355  ...      0   0    0               0\n",
       "1 -1.719066 -2.623810 -1.966580  0.483355  ...      0   0    0               0\n",
       "2 -1.710406  0.620313  0.262338 -1.381391  ...      1   0    1               0\n",
       "3 -1.701745 -0.205464 -0.480635 -2.313764  ...      1   1    1               0\n",
       "4 -1.693085 -0.028511  0.262338 -1.381391  ...      0   0    0               0\n",
       "\n",
       "[5 rows x 26 columns]\n"
      ]
     },
     "metadata": {},
     "output_type": "display_data"
    }
   ],
   "source": [
    "import pandas as pd\n",
    "\n",
    "# Load the cleaned dataset\n",
    "df = pd.read_csv(\"data/cleaned_ckd.csv\")\n",
    "\n",
    "# Display the first few rows\n",
    "print(df.head())\n"
   ]
  },
  {
   "cell_type": "code",
   "execution_count": null,
   "metadata": {},
   "outputs": [
    {
     "data": {
      "text/plain": [
       "Traceback (most recent call last):\n",
       "  File \"c:\\Users\\suyas\\.vscode\\extensions\\ms-python.python-2025.0.0-win32-x64\\python_files\\python_server.py\", line 133, in exec_user_input\n",
       "    retval = callable_(user_input, user_globals)\n",
       "  File \"<string>\", line 2, in <module>\n",
       "  File \"d:\\Projects\\chronic-kidney-disease-prediction\\venv\\Lib\\site-packages\\pandas\\core\\frame.py\", line 5581, in drop\n",
       "    return super().drop(\n",
       "           ~~~~~~~~~~~~^\n",
       "        labels=labels,\n",
       "        ^^^^^^^^^^^^^^\n",
       "    ...<5 lines>...\n",
       "        errors=errors,\n",
       "        ^^^^^^^^^^^^^^\n",
       "    )\n",
       "    ^\n",
       "  File \"d:\\Projects\\chronic-kidney-disease-prediction\\venv\\Lib\\site-packages\\pandas\\core\\generic.py\", line 4788, in drop\n",
       "    obj = obj._drop_axis(labels, axis, level=level, errors=errors)\n",
       "  File \"d:\\Projects\\chronic-kidney-disease-prediction\\venv\\Lib\\site-packages\\pandas\\core\\generic.py\", line 4830, in _drop_axis\n",
       "    new_axis = axis.drop(labels, errors=errors)\n",
       "  File \"d:\\Projects\\chronic-kidney-disease-prediction\\venv\\Lib\\site-packages\\pandas\\core\\indexes\\base.py\", line 7070, in drop\n",
       "    raise KeyError(f\"{labels[mask].tolist()} not found in axis\")\n",
       "KeyError: \"['classification_target'] not found in axis\"\n",
       "\n"
      ]
     },
     "metadata": {},
     "output_type": "display_data"
    }
   ],
   "source": [
    "# Assuming 'classification_target' is the column indicating CKD presence\n",
    "X = df.drop(columns=['classification'])  # Features\n",
    "y = df['classification']  # Target (0 = No CKD, 1 = CKD)\n"
   ]
  },
  {
   "cell_type": "code",
   "execution_count": null,
   "metadata": {},
   "outputs": [],
   "source": []
  }
 ],
 "metadata": {
  "language_info": {
   "name": "python"
  }
 },
 "nbformat": 4,
 "nbformat_minor": 2
}
